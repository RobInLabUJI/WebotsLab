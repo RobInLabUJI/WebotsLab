{
 "cells": [
  {
   "cell_type": "code",
   "execution_count": null,
   "metadata": {},
   "outputs": [],
   "source": [
    "from controller import Robot"
   ]
  },
  {
   "cell_type": "code",
   "execution_count": null,
   "metadata": {},
   "outputs": [],
   "source": [
    "robot = Robot()"
   ]
  },
  {
   "cell_type": "code",
   "execution_count": null,
   "metadata": {},
   "outputs": [],
   "source": [
    "timestep = int(robot.getBasicTimeStep())"
   ]
  },
  {
   "cell_type": "code",
   "execution_count": null,
   "metadata": {},
   "outputs": [],
   "source": [
    "MAX_SPEED = 5.24\n",
    "MAX_SENSOR_NUMBER = 16\n",
    "DELAY = 70\n",
    "MAX_SENSOR_VALUE = 1024\n",
    "MIN_DISTANCE = 1.0\n",
    "WHEEL_WEIGHT_THRESHOLD = 100"
   ]
  },
  {
   "cell_type": "code",
   "execution_count": null,
   "metadata": {},
   "outputs": [],
   "source": [
    "wheel_weight = [[150,0], [200,0], [300,0], [600,0], [0,600], [0,300], [0,200], [0,150],\n",
    "                [0,0], [0,0], [0,0], [0,0], [0,0], [0,0], [0,0], [0,0]]"
   ]
  },
  {
   "cell_type": "code",
   "execution_count": null,
   "metadata": {},
   "outputs": [],
   "source": [
    "left_wheel = robot.getMotor('left wheel')\n",
    "left_wheel.setPosition(float('+inf'))\n",
    "left_wheel.setVelocity(0)\n",
    "right_wheel = robot.getMotor('right wheel')\n",
    "right_wheel.setPosition(float('+inf'))\n",
    "right_wheel.setVelocity(0)"
   ]
  },
  {
   "cell_type": "code",
   "execution_count": null,
   "metadata": {},
   "outputs": [],
   "source": [
    "red_led = [robot.getLED('red led 1'), \n",
    "           robot.getLED('red led 2'), \n",
    "           robot.getLED('red led 3')]"
   ]
  },
  {
   "cell_type": "code",
   "execution_count": null,
   "metadata": {},
   "outputs": [],
   "source": [
    "sensors = []\n",
    "for i in range(MAX_SENSOR_NUMBER):\n",
    "    so = robot.getDistanceSensor('so%d' % i)\n",
    "    so.enable(timestep)\n",
    "    sensors.append(so)"
   ]
  },
  {
   "cell_type": "code",
   "execution_count": null,
   "metadata": {},
   "outputs": [],
   "source": [
    "FORWARD = 1\n",
    "LEFT = 2\n",
    "RIGHT = 3"
   ]
  },
  {
   "cell_type": "code",
   "execution_count": null,
   "metadata": {},
   "outputs": [],
   "source": [
    "state = FORWARD"
   ]
  },
  {
   "cell_type": "code",
   "execution_count": null,
   "metadata": {},
   "outputs": [],
   "source": [
    "seconds = 3\n",
    "steps = int(seconds * 1000 / timestep)\n",
    "for _ in range(steps):\n",
    "    robot.step(timestep)\n",
    "    speed = [0, 0]\n",
    "    wheel_weight_total = [0, 0]\n",
    "    for i in range(MAX_SENSOR_NUMBER):\n",
    "        sensor_value = sensors[i].getValue()\n",
    "        if sensor_value == 0.0:\n",
    "            speed_modifier = 0.0\n",
    "        else:\n",
    "            distance = 5.0 * (1.0 - sensor_value / MAX_SENSOR_VALUE)\n",
    "            if distance < MIN_DISTANCE:\n",
    "                speed_modifier = 1 - distance / MIN_DISTANCE\n",
    "            else:\n",
    "                speed_modifier = 0.0\n",
    "        wheel_weight_total[0] += wheel_weight[i][0] * speed_modifier\n",
    "        wheel_weight_total[1] += wheel_weight[i][1] * speed_modifier\n",
    "    if state == FORWARD:\n",
    "        if wheel_weight_total[0] > WHEEL_WEIGHT_THRESHOLD:\n",
    "            speed[0] = 0.7 * MAX_SPEED\n",
    "            speed[1] = -0.7 * MAX_SPEED\n",
    "            state = LEFT\n",
    "        elif wheel_weight_total[1] > WHEEL_WEIGHT_THRESHOLD:\n",
    "            speed[0] = -0.7 * MAX_SPEED\n",
    "            speed[1] = 0.7 * MAX_SPEED\n",
    "            state = RIGHT\n",
    "        else:\n",
    "            speed[0] = MAX_SPEED\n",
    "            speed[1] = MAX_SPEED\n",
    "    elif state == LEFT:\n",
    "        if wheel_weight_total[0] > WHEEL_WEIGHT_THRESHOLD or wheel_weight_total[1] > WHEEL_WEIGHT_THRESHOLD:\n",
    "            speed[0] = 0.7 * MAX_SPEED\n",
    "            speed[1] = -0.7 * MAX_SPEED\n",
    "        else:\n",
    "            speed[0] = MAX_SPEED\n",
    "            speed[1] = MAX_SPEED\n",
    "            state = FORWARD\n",
    "    elif state == RIGHT:\n",
    "        if wheel_weight_total[0] > WHEEL_WEIGHT_THRESHOLD or wheel_weight_total[1] > WHEEL_WEIGHT_THRESHOLD:\n",
    "            speed[0] = -0.7 * MAX_SPEED\n",
    "            speed[1] = 0.7 * MAX_SPEED\n",
    "        else:\n",
    "            speed[0] = MAX_SPEED\n",
    "            speed[1] = MAX_SPEED\n",
    "            state = FORWARD\n",
    "    left_wheel.setVelocity(speed[0])\n",
    "    right_wheel.setVelocity(speed[1])"
   ]
  },
  {
   "cell_type": "code",
   "execution_count": null,
   "metadata": {},
   "outputs": [],
   "source": []
  }
 ],
 "metadata": {
  "kernelspec": {
   "display_name": "Python 3",
   "language": "python",
   "name": "python3"
  },
  "language_info": {
   "codemirror_mode": {
    "name": "ipython",
    "version": 3
   },
   "file_extension": ".py",
   "mimetype": "text/x-python",
   "name": "python",
   "nbconvert_exporter": "python",
   "pygments_lexer": "ipython3",
   "version": "3.6.9"
  }
 },
 "nbformat": 4,
 "nbformat_minor": 4
}

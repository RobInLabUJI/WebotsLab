{
 "cells": [
  {
   "cell_type": "code",
   "execution_count": null,
   "metadata": {},
   "outputs": [],
   "source": [
    "import numpy as np\n",
    "import matplotlib.pyplot as plt\n",
    "%matplotlib inline"
   ]
  },
  {
   "cell_type": "code",
   "execution_count": null,
   "metadata": {},
   "outputs": [],
   "source": [
    "from vehicle import Driver"
   ]
  },
  {
   "cell_type": "code",
   "execution_count": null,
   "metadata": {},
   "outputs": [],
   "source": [
    "sensorsNames = [\n",
    "    'front', 'front right 0', 'front right 1', 'front right 2',\n",
    "    'front left 0', 'front left 1', 'front left 2',\n",
    "    'rear', 'rear left', 'rear right', 'right', 'left']\n",
    "sensors = {}"
   ]
  },
  {
   "cell_type": "code",
   "execution_count": null,
   "metadata": {},
   "outputs": [],
   "source": [
    "maxSpeed = 80\n",
    "driver = Driver()\n",
    "driver.setSteeringAngle(0.0)  # go straight"
   ]
  },
  {
   "cell_type": "code",
   "execution_count": null,
   "metadata": {},
   "outputs": [],
   "source": [
    "for name in sensorsNames:\n",
    "    sensors[name] = driver.getDistanceSensor('distance sensor ' + name)\n",
    "    sensors[name].enable(10)"
   ]
  },
  {
   "cell_type": "code",
   "execution_count": null,
   "metadata": {},
   "outputs": [],
   "source": [
    "gps = driver.getGPS('gps')\n",
    "gps.enable(10)"
   ]
  },
  {
   "cell_type": "code",
   "execution_count": null,
   "metadata": {},
   "outputs": [],
   "source": [
    "camera = driver.getCamera('camera')\n",
    "camera.enable(50)\n",
    "camera.recognitionEnable(50)"
   ]
  },
  {
   "cell_type": "code",
   "execution_count": null,
   "metadata": {},
   "outputs": [],
   "source": [
    "try:\n",
    "    while True:\n",
    "        driver.step()\n",
    "        frontDistance = sensors['front'].getValue()\n",
    "        frontRange = sensors['front'].getMaxValue()\n",
    "        speed = maxSpeed * frontDistance / frontRange\n",
    "        driver.setCruisingSpeed(speed)\n",
    "        speedDiff = driver.getCurrentSpeed() - speed\n",
    "        if speedDiff > 0:\n",
    "            driver.setBrakeIntensity(min(speedDiff / speed, 1))\n",
    "        else:\n",
    "            driver.setBrakeIntensity(0)\n",
    "except KeyboardInterrupt:\n",
    "    pass"
   ]
  },
  {
   "cell_type": "code",
   "execution_count": null,
   "metadata": {},
   "outputs": [],
   "source": [
    "driver.setCruisingSpeed(0)\n",
    "driver.step();"
   ]
  },
  {
   "cell_type": "code",
   "execution_count": null,
   "metadata": {},
   "outputs": [],
   "source": [
    "image = camera.getImageArray()\n",
    "plt.imshow(np.transpose(image,(1,0,2)));\n",
    "n = camera.getRecognitionNumberOfObjects()\n",
    "obj = camera.getRecognitionObjects()\n",
    "for i in range(n):\n",
    "    x, y = obj[i].get_position_on_image()\n",
    "    dx, dy = obj[i].get_size_on_image()\n",
    "    if not dx==255:\n",
    "        plt.plot([x-dx/2,x+dx/2,x+dx/2,x-dx/2,x-dx/2],\n",
    "                 [y-dy/2,y-dy/2,y+dy/2,y+dy/2,y-dy/2],'r')"
   ]
  },
  {
   "cell_type": "code",
   "execution_count": null,
   "metadata": {},
   "outputs": [],
   "source": []
  }
 ],
 "metadata": {
  "kernelspec": {
   "display_name": "Python 3",
   "language": "python",
   "name": "python3"
  },
  "language_info": {
   "codemirror_mode": {
    "name": "ipython",
    "version": 3
   },
   "file_extension": ".py",
   "mimetype": "text/x-python",
   "name": "python",
   "nbconvert_exporter": "python",
   "pygments_lexer": "ipython3",
   "version": "3.6.9"
  }
 },
 "nbformat": 4,
 "nbformat_minor": 4
}

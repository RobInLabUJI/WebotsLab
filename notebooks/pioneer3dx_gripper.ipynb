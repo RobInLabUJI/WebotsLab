{
 "cells": [
  {
   "cell_type": "code",
   "execution_count": null,
   "metadata": {},
   "outputs": [],
   "source": [
    "import numpy as np\n",
    "import matplotlib.pyplot as plt\n",
    "%matplotlib inline"
   ]
  },
  {
   "cell_type": "code",
   "execution_count": null,
   "metadata": {},
   "outputs": [],
   "source": [
    "from controller import Robot"
   ]
  },
  {
   "cell_type": "code",
   "execution_count": null,
   "metadata": {},
   "outputs": [],
   "source": [
    "robot = Robot()\n",
    "timestep = int(robot.getBasicTimeStep())"
   ]
  },
  {
   "cell_type": "code",
   "execution_count": null,
   "metadata": {},
   "outputs": [],
   "source": [
    "for i in range(robot.getNumberOfDevices()):\n",
    "    device = robot.getDeviceByIndex(i)\n",
    "    name = device.getName()\n",
    "    print('Device #%d name = %s' % (i, name))"
   ]
  },
  {
   "cell_type": "code",
   "execution_count": null,
   "metadata": {},
   "outputs": [],
   "source": [
    "left_wheel = robot.getMotor('left wheel')\n",
    "left_wheel.setPosition(float('+inf'))\n",
    "left_wheel.setVelocity(0)"
   ]
  },
  {
   "cell_type": "code",
   "execution_count": null,
   "metadata": {},
   "outputs": [],
   "source": [
    "right_wheel = robot.getMotor('right wheel')\n",
    "right_wheel.setPosition(float('+inf'))\n",
    "right_wheel.setVelocity(0)"
   ]
  },
  {
   "cell_type": "code",
   "execution_count": null,
   "metadata": {},
   "outputs": [],
   "source": [
    "def move(ls, rs, seconds=1):\n",
    "    leftMotor.setVelocity(ls)\n",
    "    rightMotor.setVelocity(rs)\n",
    "    robot.step(timestep)"
   ]
  },
  {
   "cell_type": "code",
   "execution_count": null,
   "metadata": {},
   "outputs": [],
   "source": [
    "camera = robot.getCamera('kinect color')\n",
    "camera.enable(timestep)"
   ]
  },
  {
   "cell_type": "code",
   "execution_count": null,
   "metadata": {},
   "outputs": [],
   "source": [
    "tilt_motor = robot.getMotor('tilt motor')\n",
    "tilt_motor.setPosition(-0.5)\n",
    "robot.step(timestep);"
   ]
  },
  {
   "cell_type": "code",
   "execution_count": null,
   "metadata": {},
   "outputs": [],
   "source": [
    "robot.step(timestep)\n",
    "image = np.transpose(camera.getImageArray(),(1,0,2)).astype(np.uint8)\n",
    "plt.imshow(image);"
   ]
  },
  {
   "cell_type": "code",
   "execution_count": null,
   "metadata": {},
   "outputs": [],
   "source": [
    "import cv2\n",
    "hsv = cv2.cvtColor(image, cv2.COLOR_RGB2HSV)\n",
    "for plane in range(3):\n",
    "    plt.subplot(1,3,plane+1)\n",
    "    plt.imshow(hsv[:,:,plane],cmap='gray');"
   ]
  },
  {
   "cell_type": "code",
   "execution_count": null,
   "metadata": {},
   "outputs": [],
   "source": [
    "lower_blue = np.array([110, 150, 90])\n",
    "upper_blue = np.array([130, 255, 255])\n",
    "mask = cv2.inRange(hsv, lower_blue, upper_blue)\n",
    "plt.imshow(mask,cmap='gray');"
   ]
  },
  {
   "cell_type": "code",
   "execution_count": null,
   "metadata": {},
   "outputs": [],
   "source": [
    "M = cv2.moments(mask)\n",
    "cx = int(M['m10']/M['m00'])\n",
    "cy = int(M['m01']/M['m00'])\n",
    "plt.imshow(image)\n",
    "axes = plt.gca()\n",
    "axes.add_artist(plt.Circle((cx,cy),10,color='b',fill=False));"
   ]
  },
  {
   "cell_type": "code",
   "execution_count": null,
   "metadata": {},
   "outputs": [],
   "source": []
  }
 ],
 "metadata": {
  "kernelspec": {
   "display_name": "Python 3",
   "language": "python",
   "name": "python3"
  },
  "language_info": {
   "codemirror_mode": {
    "name": "ipython",
    "version": 3
   },
   "file_extension": ".py",
   "mimetype": "text/x-python",
   "name": "python",
   "nbconvert_exporter": "python",
   "pygments_lexer": "ipython3",
   "version": "3.6.9"
  }
 },
 "nbformat": 4,
 "nbformat_minor": 4
}

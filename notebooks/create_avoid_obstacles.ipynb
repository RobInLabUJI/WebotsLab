{
 "cells": [
  {
   "cell_type": "code",
   "execution_count": null,
   "metadata": {},
   "outputs": [],
   "source": [
    "import math\n",
    "import random\n",
    "import time\n",
    "from controller import Robot"
   ]
  },
  {
   "cell_type": "code",
   "execution_count": null,
   "metadata": {},
   "outputs": [],
   "source": [
    "robot = Robot()"
   ]
  },
  {
   "cell_type": "code",
   "execution_count": null,
   "metadata": {},
   "outputs": [],
   "source": [
    "timestep = int(robot.getBasicTimeStep())"
   ]
  },
  {
   "cell_type": "code",
   "execution_count": null,
   "metadata": {},
   "outputs": [],
   "source": [
    "for i in range(robot.getNumberOfDevices()):\n",
    "    device = robot.getDeviceByIndex(i)\n",
    "    name = device.getName()\n",
    "    print('Device #%d name = %s' % (i, name))"
   ]
  },
  {
   "cell_type": "code",
   "execution_count": null,
   "metadata": {},
   "outputs": [],
   "source": [
    "left_motor = robot.getMotor('left wheel motor')\n",
    "left_motor.setPosition(float('+inf'))\n",
    "left_motor.setVelocity(0)"
   ]
  },
  {
   "cell_type": "code",
   "execution_count": null,
   "metadata": {},
   "outputs": [],
   "source": [
    "right_motor = robot.getMotor('right wheel motor')\n",
    "right_motor.setPosition(float('+inf'))\n",
    "right_motor.setVelocity(0)"
   ]
  },
  {
   "cell_type": "code",
   "execution_count": null,
   "metadata": {},
   "outputs": [],
   "source": [
    "left_encoder = robot.getPositionSensor('left wheel sensor')\n",
    "left_encoder.enable(timestep)"
   ]
  },
  {
   "cell_type": "code",
   "execution_count": null,
   "metadata": {},
   "outputs": [],
   "source": [
    "right_encoder = robot.getPositionSensor('right wheel sensor')\n",
    "right_encoder.enable(timestep)"
   ]
  },
  {
   "cell_type": "code",
   "execution_count": null,
   "metadata": {},
   "outputs": [],
   "source": [
    "MAX_SPEED = 16\n",
    "NULL_SPEED = 0\n",
    "HALF_SPEED = 8\n",
    "MIN_SPEED = 16"
   ]
  },
  {
   "cell_type": "code",
   "execution_count": null,
   "metadata": {},
   "outputs": [],
   "source": [
    "WHEEL_RADIUS = 0.031\n",
    "AXLE_LENGTH = 0.271756\n",
    "ENCODER_RESOLUTION = 507.9188"
   ]
  },
  {
   "cell_type": "code",
   "execution_count": null,
   "metadata": {},
   "outputs": [],
   "source": [
    "def go_forward():\n",
    "    left_motor.setVelocity(MAX_SPEED)\n",
    "    right_motor.setVelocity(MAX_SPEED)\n",
    "    robot.step(timestep)"
   ]
  },
  {
   "cell_type": "code",
   "execution_count": null,
   "metadata": {},
   "outputs": [],
   "source": [
    "def go_backward():\n",
    "    left_motor.setVelocity(-HALF_SPEED)\n",
    "    right_motor.setVelocity(-HALF_SPEED)\n",
    "    robot.step(timestep)"
   ]
  },
  {
   "cell_type": "code",
   "execution_count": null,
   "metadata": {},
   "outputs": [],
   "source": [
    "def stop():\n",
    "    left_motor.setVelocity(NULL_SPEED)\n",
    "    right_motor.setVelocity(NULL_SPEED)\n",
    "    robot.step(timestep)"
   ]
  },
  {
   "cell_type": "code",
   "execution_count": null,
   "metadata": {},
   "outputs": [],
   "source": [
    "def orientation(l_offset, r_offset, neg):\n",
    "    l = left_encoder.getValue() - l_offset\n",
    "    r = right_encoder.getValue() - r_offset\n",
    "    dl = l * WHEEL_RADIUS\n",
    "    dr = r * WHEEL_RADIUS\n",
    "    ori = neg * (dl - dr) / AXLE_LENGTH\n",
    "    return ori"
   ]
  },
  {
   "cell_type": "code",
   "execution_count": null,
   "metadata": {},
   "outputs": [],
   "source": [
    "def turn(angle):\n",
    "    stop()\n",
    "    l_offset = left_encoder.getValue()\n",
    "    r_offset = right_encoder.getValue()\n",
    "    robot.step(timestep)\n",
    "    if angle < 0:\n",
    "        neg = -1.0\n",
    "    else:\n",
    "        neg = 1.0\n",
    "    left_motor.setVelocity(neg * HALF_SPEED)\n",
    "    right_motor.setVelocity(-neg * HALF_SPEED)\n",
    "    while orientation(l_offset, r_offset, neg) < neg * angle:\n",
    "        robot.step(timestep)\n",
    "    return"
   ]
  },
  {
   "cell_type": "code",
   "execution_count": null,
   "metadata": {},
   "outputs": [],
   "source": [
    "bumper_left = robot.getTouchSensor('bumper_left')\n",
    "bumper_left.enable(timestep)\n",
    "bumper_right = robot.getTouchSensor('bumper_right')\n",
    "bumper_right.enable(timestep)"
   ]
  },
  {
   "cell_type": "code",
   "execution_count": null,
   "metadata": {},
   "outputs": [],
   "source": [
    "try:\n",
    "    while True:\n",
    "        if bumper_left.getValue() != 0:\n",
    "            go_backward()\n",
    "            time.sleep(0.5)\n",
    "            turn(math.pi * random.random())\n",
    "        elif bumper_right.getValue() != 0:\n",
    "            go_backward()\n",
    "            time.sleep(0.5)\n",
    "            turn(-math.pi * random.random())\n",
    "        else:\n",
    "            go_forward()\n",
    "except KeyboardInterrupt:\n",
    "    stop()"
   ]
  },
  {
   "cell_type": "code",
   "execution_count": null,
   "metadata": {},
   "outputs": [],
   "source": []
  }
 ],
 "metadata": {
  "kernelspec": {
   "display_name": "Python 3",
   "language": "python",
   "name": "python3"
  },
  "language_info": {
   "codemirror_mode": {
    "name": "ipython",
    "version": 3
   },
   "file_extension": ".py",
   "mimetype": "text/x-python",
   "name": "python",
   "nbconvert_exporter": "python",
   "pygments_lexer": "ipython3",
   "version": "3.6.9"
  }
 },
 "nbformat": 4,
 "nbformat_minor": 4
}

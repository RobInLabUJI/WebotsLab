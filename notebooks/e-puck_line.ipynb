{
 "cells": [
  {
   "cell_type": "markdown",
   "metadata": {},
   "source": [
    "## Launching Webots viewer\n",
    "\n",
    "Open the following link in a new tab or window:\n",
    "\n",
    "[Webots streaming viewer](http://localhost:8889/static/index.html)\n",
    "\n",
    "Then execute the code cells below."
   ]
  },
  {
   "cell_type": "code",
   "execution_count": null,
   "metadata": {},
   "outputs": [],
   "source": [
    "import numpy as np\n",
    "import matplotlib.pyplot as plt\n",
    "%matplotlib inline"
   ]
  },
  {
   "cell_type": "code",
   "execution_count": null,
   "metadata": {},
   "outputs": [],
   "source": [
    "from controller import Robot"
   ]
  },
  {
   "cell_type": "code",
   "execution_count": null,
   "metadata": {},
   "outputs": [],
   "source": [
    "robot = Robot()\n",
    "timestep = int(robot.getBasicTimeStep())"
   ]
  },
  {
   "cell_type": "code",
   "execution_count": null,
   "metadata": {},
   "outputs": [],
   "source": [
    "LFM_FORWARD_SPEED = 200\n",
    "LFM_K_GS_SPEED = 0.4"
   ]
  },
  {
   "cell_type": "code",
   "execution_count": null,
   "metadata": {},
   "outputs": [],
   "source": [
    "left_motor = robot.getMotor('left wheel motor')\n",
    "left_motor.setPosition(float('+inf'))\n",
    "left_motor.setVelocity(0)"
   ]
  },
  {
   "cell_type": "code",
   "execution_count": null,
   "metadata": {},
   "outputs": [],
   "source": [
    "right_motor = robot.getMotor('right wheel motor')\n",
    "right_motor.setPosition(float('+inf'))\n",
    "right_motor.setVelocity(0)"
   ]
  },
  {
   "cell_type": "code",
   "execution_count": null,
   "metadata": {},
   "outputs": [],
   "source": [
    "NB_GROUND_SENS = 3\n",
    "gs = []\n",
    "for i in range(NB_GROUND_SENS):\n",
    "    gs.append( robot.getDistanceSensor('gs%d' % i) )\n",
    "    gs[i].enable( timestep )"
   ]
  },
  {
   "cell_type": "code",
   "execution_count": null,
   "metadata": {},
   "outputs": [],
   "source": [
    "data = []"
   ]
  },
  {
   "cell_type": "code",
   "execution_count": null,
   "metadata": {},
   "outputs": [],
   "source": [
    "seconds = 3\n",
    "steps = int(seconds * 1000 / timestep)\n",
    "for _ in range(steps):\n",
    "    robot.step(timestep)\n",
    "    DeltaS = gs[2].getValue() - gs[0].getValue()\n",
    "    data.append(DeltaS)\n",
    "    speed_left = LFM_FORWARD_SPEED - LFM_K_GS_SPEED * DeltaS\n",
    "    speed_right = LFM_FORWARD_SPEED + LFM_K_GS_SPEED * DeltaS\n",
    "    left_motor.setVelocity(0.00628 * speed_left)\n",
    "    right_motor.setVelocity(0.00628 * speed_right)\n",
    "plt.plot(data);"
   ]
  },
  {
   "cell_type": "code",
   "execution_count": null,
   "metadata": {},
   "outputs": [],
   "source": []
  }
 ],
 "metadata": {
  "kernelspec": {
   "display_name": "Python 3",
   "language": "python",
   "name": "python3"
  },
  "language_info": {
   "codemirror_mode": {
    "name": "ipython",
    "version": 3
   },
   "file_extension": ".py",
   "mimetype": "text/x-python",
   "name": "python",
   "nbconvert_exporter": "python",
   "pygments_lexer": "ipython3",
   "version": "3.6.9"
  }
 },
 "nbformat": 4,
 "nbformat_minor": 4
}

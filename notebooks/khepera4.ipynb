{
 "cells": [
  {
   "cell_type": "code",
   "execution_count": null,
   "metadata": {},
   "outputs": [],
   "source": [
    "from controller import Robot"
   ]
  },
  {
   "cell_type": "code",
   "execution_count": null,
   "metadata": {},
   "outputs": [],
   "source": [
    "robot = Robot()\n",
    "timestep = int(robot.getBasicTimeStep())\n",
    "MAX_SPEED = 47.6"
   ]
  },
  {
   "cell_type": "code",
   "execution_count": null,
   "metadata": {},
   "outputs": [],
   "source": [
    "left_motor = robot.getMotor('left wheel motor')\n",
    "left_motor.setPosition(float('+inf'))\n",
    "left_motor.setVelocity(0)"
   ]
  },
  {
   "cell_type": "code",
   "execution_count": null,
   "metadata": {},
   "outputs": [],
   "source": [
    "right_motor = robot.getMotor('right wheel motor')\n",
    "right_motor.setPosition(float('+inf'))\n",
    "right_motor.setVelocity(0)"
   ]
  },
  {
   "cell_type": "code",
   "execution_count": null,
   "metadata": {},
   "outputs": [],
   "source": [
    "front_left_ir = robot.getDistanceSensor('front left infrared sensor')\n",
    "front_left_ir.enable(timestep)"
   ]
  },
  {
   "cell_type": "code",
   "execution_count": null,
   "metadata": {},
   "outputs": [],
   "source": [
    "front_ir = robot.getDistanceSensor('front infrared sensor')\n",
    "front_ir.enable(timestep)"
   ]
  },
  {
   "cell_type": "code",
   "execution_count": null,
   "metadata": {},
   "outputs": [],
   "source": [
    "front_right_ir = robot.getDistanceSensor('front right infrared sensor')\n",
    "front_right_ir.enable(timestep)"
   ]
  },
  {
   "cell_type": "code",
   "execution_count": null,
   "metadata": {},
   "outputs": [],
   "source": [
    "seconds = 3\n",
    "steps = int(seconds * 1000 / timestep)\n",
    "for _ in range(steps):\n",
    "    robot.step(timestep)\n",
    "    speed_offset = 0.2 * (MAX_SPEED - 0.03 * front_ir.getValue())\n",
    "    speed_delta = 0.03 * front_left_ir.getValue() - 0.03 * front_right_ir.getValue()\n",
    "    left_motor.setVelocity(speed_offset + speed_delta)\n",
    "    right_motor.setVelocity(speed_offset - speed_delta)"
   ]
  },
  {
   "cell_type": "code",
   "execution_count": null,
   "metadata": {},
   "outputs": [],
   "source": []
  }
 ],
 "metadata": {
  "kernelspec": {
   "display_name": "Python 3",
   "language": "python",
   "name": "python3"
  },
  "language_info": {
   "codemirror_mode": {
    "name": "ipython",
    "version": 3
   },
   "file_extension": ".py",
   "mimetype": "text/x-python",
   "name": "python",
   "nbconvert_exporter": "python",
   "pygments_lexer": "ipython3",
   "version": "3.6.9"
  }
 },
 "nbformat": 4,
 "nbformat_minor": 4
}

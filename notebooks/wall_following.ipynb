{
 "cells": [
  {
   "cell_type": "code",
   "execution_count": null,
   "metadata": {},
   "outputs": [],
   "source": [
    "\"\"\"Sample Webots controller for the wall following benchmark.\"\"\"\n",
    "\n",
    "from controller import Robot\n",
    "\n",
    "def getDistance(sensor):\n",
    "    \"\"\"\n",
    "    Return the distance of an obstacle for a sensor.\n",
    "\n",
    "    The value returned by the getValue() method of the distance sensors\n",
    "    corresponds to a physical value (here we have a sonar, so it is the\n",
    "    strength of the sonar ray). This function makes a conversion to a\n",
    "    distance value in meters.\n",
    "    \"\"\"\n",
    "    return ((1000 - sensor.getValue()) / 1000) * 5\n",
    "\n",
    "\n",
    "# Maximum speed for the velocity value of the wheels.\n",
    "# Don't change this value.\n",
    "MAX_SPEED = 5.24\n",
    "\n",
    "# Get pointer to the robot.\n",
    "robot = Robot()\n",
    "\n",
    "# Get the time step of the current world.\n",
    "timestep = int(robot.getBasicTimeStep())\n",
    "\n",
    "# Get pointer to the robot wheels motors.\n",
    "leftWheel = robot.getMotor('left wheel')\n",
    "rightWheel = robot.getMotor('right wheel')\n",
    "\n",
    "# We will use the velocity parameter of the wheels, so we need to\n",
    "# set the target position to infinity.\n",
    "leftWheel.setPosition(float('inf'))\n",
    "rightWheel.setPosition(float('inf'))\n",
    "\n",
    "# Get and enable the distance sensors.\n",
    "frontSensor = robot.getDistanceSensor(\"so3\")\n",
    "frontSensor.enable(timestep)\n",
    "sideSensor = robot.getDistanceSensor(\"so0\")\n",
    "sideSensor.enable(timestep)"
   ]
  },
  {
   "cell_type": "code",
   "execution_count": null,
   "metadata": {},
   "outputs": [],
   "source": [
    "# Move forward until we are 50 cm away from the wall.\n",
    "leftWheel.setVelocity(MAX_SPEED)\n",
    "rightWheel.setVelocity(MAX_SPEED)\n",
    "while robot.step(timestep) != -1:\n",
    "    if getDistance(frontSensor) < 0.5:\n",
    "        break"
   ]
  },
  {
   "cell_type": "code",
   "execution_count": null,
   "metadata": {},
   "outputs": [],
   "source": [
    "# Rotate clockwise until the wall is to our left.\n",
    "leftWheel.setVelocity(MAX_SPEED)\n",
    "rightWheel.setVelocity(-MAX_SPEED)\n",
    "while robot.step(timestep) != -1:\n",
    "    # Rotate until there is a wall to our left, and nothing in front of us.\n",
    "    if getDistance(sideSensor) < 1:\n",
    "        break"
   ]
  },
  {
   "cell_type": "code",
   "execution_count": null,
   "metadata": {},
   "outputs": [],
   "source": [
    "try:\n",
    "    while True:\n",
    "        robot.step(timestep)\n",
    "\n",
    "        # Too close to the wall, we need to turn right.\n",
    "        if getDistance(sideSensor) < 0.4:\n",
    "            leftWheel.setVelocity(MAX_SPEED)\n",
    "            rightWheel.setVelocity(MAX_SPEED * 0.9)\n",
    "\n",
    "        # Too far from the wall, we need to turn left.\n",
    "        elif getDistance(sideSensor) > 0.6:\n",
    "            leftWheel.setVelocity(MAX_SPEED * 0.9)\n",
    "            rightWheel.setVelocity(MAX_SPEED)\n",
    "\n",
    "        # We are in the right direction.\n",
    "        else:\n",
    "            leftWheel.setVelocity(MAX_SPEED)\n",
    "            rightWheel.setVelocity(MAX_SPEED)\n",
    "except KeyboardInterrupt:\n",
    "    leftWheel.setVelocity(0)\n",
    "    rightWheel.setVelocity(0)\n",
    "    robot.step(timestep)"
   ]
  },
  {
   "cell_type": "code",
   "execution_count": null,
   "metadata": {},
   "outputs": [],
   "source": []
  }
 ],
 "metadata": {
  "kernelspec": {
   "display_name": "Python 3",
   "language": "python",
   "name": "python3"
  },
  "language_info": {
   "codemirror_mode": {
    "name": "ipython",
    "version": 3
   },
   "file_extension": ".py",
   "mimetype": "text/x-python",
   "name": "python",
   "nbconvert_exporter": "python",
   "pygments_lexer": "ipython3",
   "version": "3.6.9"
  }
 },
 "nbformat": 4,
 "nbformat_minor": 4
}

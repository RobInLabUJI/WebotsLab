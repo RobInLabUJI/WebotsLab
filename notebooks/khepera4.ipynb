{
 "cells": [
  {
   "cell_type": "code",
   "execution_count": null,
   "metadata": {},
   "outputs": [],
   "source": [
    "import numpy as np\n",
    "import matplotlib.pyplot as plt\n",
    "%matplotlib inline"
   ]
  },
  {
   "cell_type": "code",
   "execution_count": null,
   "metadata": {},
   "outputs": [],
   "source": [
    "from controller import Robot"
   ]
  },
  {
   "cell_type": "code",
   "execution_count": null,
   "metadata": {},
   "outputs": [],
   "source": [
    "robot = Robot()\n",
    "timestep = int(robot.getBasicTimeStep())\n",
    "MAX_SPEED = 47.6"
   ]
  },
  {
   "cell_type": "code",
   "execution_count": null,
   "metadata": {},
   "outputs": [],
   "source": [
    "left_motor = robot.getMotor('left wheel motor')\n",
    "left_motor.setPosition(float('+inf'))\n",
    "left_motor.setVelocity(0)"
   ]
  },
  {
   "cell_type": "code",
   "execution_count": null,
   "metadata": {},
   "outputs": [],
   "source": [
    "right_motor = robot.getMotor('right wheel motor')\n",
    "right_motor.setPosition(float('+inf'))\n",
    "right_motor.setVelocity(0)"
   ]
  },
  {
   "cell_type": "code",
   "execution_count": null,
   "metadata": {},
   "outputs": [],
   "source": [
    "front_left_ir = robot.getDistanceSensor('front left infrared sensor')\n",
    "front_left_ir.enable(timestep)"
   ]
  },
  {
   "cell_type": "code",
   "execution_count": null,
   "metadata": {},
   "outputs": [],
   "source": [
    "front_ir = robot.getDistanceSensor('front infrared sensor')\n",
    "front_ir.enable(timestep)"
   ]
  },
  {
   "cell_type": "code",
   "execution_count": null,
   "metadata": {},
   "outputs": [],
   "source": [
    "front_right_ir = robot.getDistanceSensor('front right infrared sensor')\n",
    "front_right_ir.enable(timestep)"
   ]
  },
  {
   "cell_type": "code",
   "execution_count": null,
   "metadata": {},
   "outputs": [],
   "source": [
    "gps = robot.getGPS('gps')\n",
    "gps.enable(timestep)"
   ]
  },
  {
   "cell_type": "code",
   "execution_count": null,
   "metadata": {},
   "outputs": [],
   "source": [
    "x = []\n",
    "y = []"
   ]
  },
  {
   "cell_type": "code",
   "execution_count": null,
   "metadata": {},
   "outputs": [],
   "source": [
    "try:\n",
    "    while True:\n",
    "        robot.step(timestep)\n",
    "        speed_offset = 0.2 * (MAX_SPEED - 0.03 * front_ir.getValue())\n",
    "        speed_delta = 0.03 * front_left_ir.getValue() - 0.03 * front_right_ir.getValue()\n",
    "        left_motor.setVelocity(speed_offset + speed_delta)\n",
    "        right_motor.setVelocity(speed_offset - speed_delta)\n",
    "        position = gps.getValues()\n",
    "        x.append(-position[0])\n",
    "        y.append(position[2])\n",
    "except KeyboardInterrupt:\n",
    "    left_motor.setVelocity(0)\n",
    "    right_motor.setVelocity(0)\n",
    "    robot.step(timestep)\n",
    "plt.plot(x,y);\n",
    "plt.axis('equal');"
   ]
  },
  {
   "cell_type": "code",
   "execution_count": null,
   "metadata": {},
   "outputs": [],
   "source": []
  }
 ],
 "metadata": {
  "kernelspec": {
   "display_name": "Python 3",
   "language": "python",
   "name": "python3"
  },
  "language_info": {
   "codemirror_mode": {
    "name": "ipython",
    "version": 3
   },
   "file_extension": ".py",
   "mimetype": "text/x-python",
   "name": "python",
   "nbconvert_exporter": "python",
   "pygments_lexer": "ipython3",
   "version": "3.6.9"
  }
 },
 "nbformat": 4,
 "nbformat_minor": 4
}

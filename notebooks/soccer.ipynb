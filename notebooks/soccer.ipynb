{
 "cells": [
  {
   "cell_type": "code",
   "execution_count": null,
   "metadata": {},
   "outputs": [],
   "source": [
    "import os\n",
    "os.environ['WEBOTS_ROBOT_NAME'] = 'y1'"
   ]
  },
  {
   "cell_type": "code",
   "execution_count": null,
   "metadata": {},
   "outputs": [],
   "source": [
    "from controller import Robot\n",
    "robot = Robot()\n",
    "timestep = int(robot.getBasicTimeStep())\n",
    "robot.getName()"
   ]
  },
  {
   "cell_type": "code",
   "execution_count": null,
   "metadata": {},
   "outputs": [],
   "source": [
    "for i in range(robot.getNumberOfDevices()):\n",
    "    device = robot.getDeviceByIndex(i)\n",
    "    name = device.getName()\n",
    "    print('Device #%d name = %s' % (i, name))"
   ]
  },
  {
   "cell_type": "code",
   "execution_count": null,
   "metadata": {},
   "outputs": [],
   "source": [
    "leftMotor = robot.getMotor('left wheel motor')\n",
    "leftMotor.setPosition(float('+inf'))\n",
    "leftMotor.setVelocity(0)"
   ]
  },
  {
   "cell_type": "code",
   "execution_count": null,
   "metadata": {},
   "outputs": [],
   "source": [
    "rightMotor = robot.getMotor('right wheel motor')\n",
    "rightMotor.setPosition(float('+inf'))\n",
    "rightMotor.setVelocity(0)"
   ]
  },
  {
   "cell_type": "code",
   "execution_count": null,
   "metadata": {},
   "outputs": [],
   "source": [
    "def move(ls, rs):\n",
    "    leftMotor.setVelocity(ls)\n",
    "    rightMotor.setVelocity(rs)\n",
    "    robot.step(timestep)"
   ]
  },
  {
   "cell_type": "code",
   "execution_count": null,
   "metadata": {},
   "outputs": [],
   "source": [
    "receiver = robot.getReceiver('receiver')\n",
    "receiver.enable(2*timestep)"
   ]
  },
  {
   "cell_type": "code",
   "execution_count": null,
   "metadata": {},
   "outputs": [],
   "source": [
    "ROBOTS = 6"
   ]
  },
  {
   "cell_type": "code",
   "execution_count": null,
   "metadata": {},
   "outputs": [],
   "source": [
    "def robot_get_id(t, p):\n",
    "    if t=='y':\n",
    "        offset = ROBOTS/2\n",
    "    else:\n",
    "        offset = 0\n",
    "    return int(3 * (ord(p) - ord('1') + offset))\n",
    "\n",
    "def robot_get(data, t, p):\n",
    "    index = robot_get_id(t, p)\n",
    "    return (data[index], data[index+1], data[index+2])\n",
    "\n",
    "def ball_get(data):\n",
    "    return (data[ROBOTS * 3], data[ROBOTS * 3 + 1])"
   ]
  },
  {
   "cell_type": "code",
   "execution_count": null,
   "metadata": {},
   "outputs": [],
   "source": [
    "import numpy as np\n",
    "import matplotlib.pyplot as plt\n",
    "%matplotlib inline"
   ]
  },
  {
   "cell_type": "code",
   "execution_count": null,
   "metadata": {},
   "outputs": [],
   "source": [
    "robot.step(2*timestep)\n",
    "while receiver.getQueueLength() > 0:\n",
    "    packet = receiver.getData()\n",
    "    receiver.nextPacket()"
   ]
  },
  {
   "cell_type": "code",
   "execution_count": null,
   "metadata": {},
   "outputs": [],
   "source": [
    "packet"
   ]
  },
  {
   "cell_type": "code",
   "execution_count": null,
   "metadata": {},
   "outputs": [],
   "source": [
    "data = np.frombuffer(packet, np.double)"
   ]
  },
  {
   "cell_type": "code",
   "execution_count": null,
   "metadata": {},
   "outputs": [],
   "source": [
    "pos = {}\n",
    "pos['ball'] = ball_get(data)\n",
    "for team in ['b', 'y']:\n",
    "    for player in ['1', '2', '3']:\n",
    "        pos[team+player] = robot_get(data, team, player)"
   ]
  },
  {
   "cell_type": "code",
   "execution_count": null,
   "metadata": {},
   "outputs": [],
   "source": [
    "plt.imshow(plt.imread('../projects/worlds/soccer/soccer-256.jpg'));\n",
    "plt.axis('off')\n",
    "plt.plot(pos['ball'][0]*128/0.75+128,pos['ball'][1]*128/0.75+128,'ko')\n",
    "for key in ['b1','b2','b3']:\n",
    "    plt.plot(pos[key][0]*128/0.75+128,pos[key][1]*128/0.75+128,'bo')\n",
    "for key in ['y1','y2','y3']:\n",
    "    plt.plot(pos[key][0]*128/0.75+128,pos[key][1]*128/0.75+128,'yo')"
   ]
  },
  {
   "cell_type": "code",
   "execution_count": null,
   "metadata": {},
   "outputs": [],
   "source": [
    "move(2.5,2.5)"
   ]
  },
  {
   "cell_type": "code",
   "execution_count": null,
   "metadata": {},
   "outputs": [],
   "source": [
    "move(-2.5,-2.5)"
   ]
  },
  {
   "cell_type": "code",
   "execution_count": null,
   "metadata": {},
   "outputs": [],
   "source": [
    "move(0,0)"
   ]
  },
  {
   "cell_type": "code",
   "execution_count": null,
   "metadata": {},
   "outputs": [],
   "source": []
  }
 ],
 "metadata": {
  "kernelspec": {
   "display_name": "Python 3",
   "language": "python",
   "name": "python3"
  },
  "language_info": {
   "codemirror_mode": {
    "name": "ipython",
    "version": 3
   },
   "file_extension": ".py",
   "mimetype": "text/x-python",
   "name": "python",
   "nbconvert_exporter": "python",
   "pygments_lexer": "ipython3",
   "version": "3.6.9"
  }
 },
 "nbformat": 4,
 "nbformat_minor": 4
}

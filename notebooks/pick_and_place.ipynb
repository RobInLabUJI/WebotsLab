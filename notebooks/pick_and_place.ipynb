{
 "cells": [
  {
   "cell_type": "code",
   "execution_count": null,
   "metadata": {},
   "outputs": [],
   "source": [
    "from controller import Robot"
   ]
  },
  {
   "cell_type": "code",
   "execution_count": null,
   "metadata": {},
   "outputs": [],
   "source": [
    "robot = Robot()\n",
    "timestep = int(robot.getBasicTimeStep())"
   ]
  },
  {
   "cell_type": "code",
   "execution_count": null,
   "metadata": {},
   "outputs": [],
   "source": [
    "# Inizialize base motors.\n",
    "wheels = []\n",
    "for i in range(4):\n",
    "    wheels.append(robot.getMotor(\"wheel%d\"%(i+1)))\n",
    "for wheel in wheels:\n",
    "    wheel.setPosition(float('+inf'))"
   ]
  },
  {
   "cell_type": "code",
   "execution_count": null,
   "metadata": {},
   "outputs": [],
   "source": [
    "armMotors = []\n",
    "for i in range(5):\n",
    "    armMotors.append(robot.getMotor(\"arm%d\"%(i+1)))"
   ]
  },
  {
   "cell_type": "code",
   "execution_count": null,
   "metadata": {},
   "outputs": [],
   "source": [
    "armMotors[0].setVelocity(0.2)\n",
    "armMotors[1].setVelocity(0.5)\n",
    "armMotors[2].setVelocity(0.5)\n",
    "armMotors[3].setVelocity(0.3)\n",
    "\n",
    "armPositionSensors = []\n",
    "for i in range(5):\n",
    "    armPositionSensors.append(robot.getPositionSensor(\"arm%dsensor\"%(i+1)))\n",
    "for sensor in armPositionSensors:\n",
    "    sensor.enable(timestep)"
   ]
  },
  {
   "cell_type": "code",
   "execution_count": null,
   "metadata": {},
   "outputs": [],
   "source": [
    "# Initialize gripper motors.\n",
    "finger1 = robot.getMotor(\"finger1\")\n",
    "finger2 = robot.getMotor(\"finger2\")\n",
    "# Set the maximum motor velocity.\n",
    "finger1.setVelocity(0.03)\n",
    "finger2.setVelocity(0.03)\n",
    "# Read the miminum and maximum position of the gripper motors.\n",
    "fingerMinPosition = finger1.getMinPosition()\n",
    "fingerMaxPosition = finger1.getMaxPosition()"
   ]
  },
  {
   "cell_type": "code",
   "execution_count": null,
   "metadata": {},
   "outputs": [],
   "source": [
    "# Move forward.\n",
    "for wheel in wheels:\n",
    "    wheel.setVelocity(7.0)\n",
    "# Wait until the robot is in front of the box.\n",
    "robot.step(520 * timestep)"
   ]
  },
  {
   "cell_type": "code",
   "execution_count": null,
   "metadata": {},
   "outputs": [],
   "source": [
    "# Stop moving forward.\n",
    "for wheel in wheels:\n",
    "    wheel.setVelocity(0.0)"
   ]
  },
  {
   "cell_type": "code",
   "execution_count": null,
   "metadata": {},
   "outputs": [],
   "source": [
    "# Move arm and open gripper.\n",
    "armMotors[1].setPosition(-0.55)\n",
    "armMotors[2].setPosition(-0.9)\n",
    "armMotors[3].setPosition(-1.5)\n",
    "finger1.setPosition(fingerMaxPosition)\n",
    "finger2.setPosition(fingerMaxPosition)"
   ]
  },
  {
   "cell_type": "code",
   "execution_count": null,
   "metadata": {},
   "outputs": [],
   "source": [
    "# Monitor the arm joint position to detect when the motion is completed.\n",
    "while robot.step(timestep) != -1:\n",
    "    if abs(armPositionSensors[3].getValue() - (-1.2)) < 0.01:\n",
    "        # Motion completed.\n",
    "        break"
   ]
  },
  {
   "cell_type": "code",
   "execution_count": null,
   "metadata": {},
   "outputs": [],
   "source": [
    "# Close gripper.\n",
    "finger1.setPosition(0.013)\n",
    "finger2.setPosition(0.013)\n",
    "# Wait until the gripper is closed.\n",
    "robot.step(50 * timestep)"
   ]
  },
  {
   "cell_type": "code",
   "execution_count": null,
   "metadata": {},
   "outputs": [],
   "source": [
    "# Lift arm.\n",
    "armMotors[1].setPosition(0)\n",
    "# Wait until the arm is lifted.\n",
    "robot.step(200 * timestep)"
   ]
  },
  {
   "cell_type": "code",
   "execution_count": null,
   "metadata": {},
   "outputs": [],
   "source": [
    "# Rotate the robot.\n",
    "wheels[0].setVelocity(2.5)\n",
    "wheels[1].setVelocity(-2.5)\n",
    "wheels[2].setVelocity(2.5)\n",
    "wheels[3].setVelocity(-2.5)\n",
    "# Wait for a fixed amount to step that the robot rotates.\n",
    "robot.step(690 * timestep)"
   ]
  },
  {
   "cell_type": "code",
   "execution_count": null,
   "metadata": {},
   "outputs": [],
   "source": [
    "# Move forward.\n",
    "wheels[1].setVelocity(2.5)\n",
    "wheels[3].setVelocity(2.5)\n",
    "robot.step(900 * timestep)"
   ]
  },
  {
   "cell_type": "code",
   "execution_count": null,
   "metadata": {},
   "outputs": [],
   "source": [
    "# Rotate the robot.\n",
    "wheels[0].setVelocity(1.0)\n",
    "wheels[1].setVelocity(-1.0)\n",
    "wheels[2].setVelocity(1.0)\n",
    "wheels[3].setVelocity(-1.0)\n",
    "robot.step(200 * timestep)"
   ]
  },
  {
   "cell_type": "code",
   "execution_count": null,
   "metadata": {},
   "outputs": [],
   "source": [
    "# Move forward.\n",
    "wheels[1].setVelocity(1.0)\n",
    "wheels[3].setVelocity(1.0)\n",
    "robot.step(300 * timestep)"
   ]
  },
  {
   "cell_type": "code",
   "execution_count": null,
   "metadata": {},
   "outputs": [],
   "source": [
    "# Rotate the robot.\n",
    "wheels[0].setVelocity(1.0)\n",
    "wheels[1].setVelocity(-1.0)\n",
    "wheels[2].setVelocity(1.0)\n",
    "wheels[3].setVelocity(-1.0)\n",
    "robot.step(130 * timestep)"
   ]
  },
  {
   "cell_type": "code",
   "execution_count": null,
   "metadata": {},
   "outputs": [],
   "source": [
    "# Move forward.\n",
    "wheels[1].setVelocity(1.0)\n",
    "wheels[3].setVelocity(1.0)\n",
    "robot.step(310 * timestep)"
   ]
  },
  {
   "cell_type": "code",
   "execution_count": null,
   "metadata": {},
   "outputs": [],
   "source": [
    "# Stop.\n",
    "for wheel in wheels:\n",
    "    wheel.setVelocity(0.0)"
   ]
  },
  {
   "cell_type": "code",
   "execution_count": null,
   "metadata": {},
   "outputs": [],
   "source": [
    "# Move arm down\n",
    "armMotors[3].setPosition(0)\n",
    "armMotors[2].setPosition(-0.3)\n",
    "robot.step(200 * timestep)"
   ]
  },
  {
   "cell_type": "code",
   "execution_count": null,
   "metadata": {},
   "outputs": [],
   "source": [
    "armMotors[1].setPosition(-1.0)\n",
    "robot.step(200 * timestep)"
   ]
  },
  {
   "cell_type": "code",
   "execution_count": null,
   "metadata": {},
   "outputs": [],
   "source": [
    "armMotors[3].setPosition(-1.0)\n",
    "robot.step(200 * timestep)"
   ]
  },
  {
   "cell_type": "code",
   "execution_count": null,
   "metadata": {},
   "outputs": [],
   "source": [
    "armMotors[2].setPosition(-0.4)\n",
    "robot.step(50 * timestep)"
   ]
  },
  {
   "cell_type": "code",
   "execution_count": null,
   "metadata": {},
   "outputs": [],
   "source": [
    "# Open gripper.\n",
    "finger1.setPosition(fingerMaxPosition)\n",
    "finger2.setPosition(fingerMaxPosition)\n",
    "robot.step(50 * timestep)"
   ]
  },
  {
   "cell_type": "code",
   "execution_count": null,
   "metadata": {},
   "outputs": [],
   "source": []
  }
 ],
 "metadata": {
  "kernelspec": {
   "display_name": "Python 3",
   "language": "python",
   "name": "python3"
  },
  "language_info": {
   "codemirror_mode": {
    "name": "ipython",
    "version": 3
   },
   "file_extension": ".py",
   "mimetype": "text/x-python",
   "name": "python",
   "nbconvert_exporter": "python",
   "pygments_lexer": "ipython3",
   "version": "3.6.9"
  }
 },
 "nbformat": 4,
 "nbformat_minor": 4
}

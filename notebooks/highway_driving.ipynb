{
 "cells": [
  {
   "cell_type": "code",
   "execution_count": null,
   "metadata": {},
   "outputs": [],
   "source": [
    "from vehicle import Driver\n",
    "\n",
    "sensorsNames = [\n",
    "    'front',\n",
    "    'front right 0',\n",
    "    'front right 1',\n",
    "    'front right 2',\n",
    "    'front left 0',\n",
    "    'front left 1',\n",
    "    'front left 2',\n",
    "    'rear',\n",
    "    'rear left',\n",
    "    'rear right',\n",
    "    'right',\n",
    "    'left']\n",
    "sensors = {}\n",
    "\n",
    "maxSpeed = 80\n",
    "driver = Driver()\n",
    "driver.setSteeringAngle(0.0)  # go straight\n",
    "\n",
    "# get and enable the distance sensors\n",
    "for name in sensorsNames:\n",
    "    sensors[name] = driver.getDistanceSensor('distance sensor ' + name)\n",
    "    sensors[name].enable(10)\n",
    "\n",
    "# get and enable the GPS\n",
    "gps = driver.getGPS('gps')\n",
    "gps.enable(10)\n",
    "\n",
    "# get the camera\n",
    "camera = driver.getCamera('camera')\n",
    "# uncomment those lines to enable the camera\n",
    "# camera.enable(50)\n",
    "# camera.recognitionEnable(50)\n",
    "\n",
    "try:\n",
    "    while True:\n",
    "        driver.step()\n",
    "        # adjust the speed according to the value returned by the front distance sensor\n",
    "        frontDistance = sensors['front'].getValue()\n",
    "        frontRange = sensors['front'].getMaxValue()\n",
    "        speed = maxSpeed * frontDistance / frontRange\n",
    "        driver.setCruisingSpeed(speed)\n",
    "        # brake if we need to reduce the speed\n",
    "        speedDiff = driver.getCurrentSpeed() - speed\n",
    "        if speedDiff > 0:\n",
    "            driver.setBrakeIntensity(min(speedDiff / speed, 1))\n",
    "        else:\n",
    "            driver.setBrakeIntensity(0)\n",
    "except KeyboardInterrupt:\n",
    "    pass"
   ]
  },
  {
   "cell_type": "code",
   "execution_count": null,
   "metadata": {},
   "outputs": [],
   "source": [
    "driver.setCruisingSpeed(0)\n",
    "driver.step()"
   ]
  },
  {
   "cell_type": "code",
   "execution_count": null,
   "metadata": {},
   "outputs": [],
   "source": []
  }
 ],
 "metadata": {
  "kernelspec": {
   "display_name": "Python 3",
   "language": "python",
   "name": "python3"
  },
  "language_info": {
   "codemirror_mode": {
    "name": "ipython",
    "version": 3
   },
   "file_extension": ".py",
   "mimetype": "text/x-python",
   "name": "python",
   "nbconvert_exporter": "python",
   "pygments_lexer": "ipython3",
   "version": "3.6.9"
  }
 },
 "nbformat": 4,
 "nbformat_minor": 4
}

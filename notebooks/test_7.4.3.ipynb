{
 "cells": [
  {
   "cell_type": "markdown",
   "metadata": {},
   "source": [
    "## Launching Webots\n",
    "\n",
    "Open a shell terminal in JupyterLab with menu \"File/New/Terminal\" and execute the command:\n",
    "```\n",
    "$WEBOTS_HOME/webots ./projects/worlds/pioneer3dx_7.4.3.wbt\n",
    "```\n",
    "\n",
    "Then execute the code cells below."
   ]
  },
  {
   "cell_type": "code",
   "execution_count": null,
   "metadata": {},
   "outputs": [],
   "source": [
    "import math\n",
    "import rpyc"
   ]
  },
  {
   "cell_type": "code",
   "execution_count": null,
   "metadata": {},
   "outputs": [],
   "source": [
    "conn = rpyc.connect(\"localhost\", 18861)\n",
    "robot = conn.root.robot"
   ]
  },
  {
   "cell_type": "code",
   "execution_count": null,
   "metadata": {},
   "outputs": [],
   "source": [
    "timestep = int(robot.getBasicTimeStep())"
   ]
  },
  {
   "cell_type": "code",
   "execution_count": null,
   "metadata": {},
   "outputs": [],
   "source": [
    "leftMotor = robot.getMotor('left_wheel')\n",
    "leftMotor.setPosition(float('+inf'))\n",
    "leftMotor.setVelocity(0)\n",
    "rightMotor = robot.getMotor('right_wheel')\n",
    "rightMotor.setPosition(float('+inf'))\n",
    "rightMotor.setVelocity(0)"
   ]
  },
  {
   "cell_type": "code",
   "execution_count": null,
   "metadata": {},
   "outputs": [],
   "source": [
    "def move(ls,rs):\n",
    "    leftMotor.setVelocity(ls)\n",
    "    rightMotor.setVelocity(rs)\n",
    "    robot.step(timestep)"
   ]
  },
  {
   "cell_type": "code",
   "execution_count": null,
   "metadata": {},
   "outputs": [],
   "source": [
    "compass = robot.getCompass('compass')\n",
    "compass.enable(timestep)"
   ]
  },
  {
   "cell_type": "code",
   "execution_count": null,
   "metadata": {},
   "outputs": [],
   "source": [
    "gps = robot.getGPS('gps')\n",
    "gps.enable(timestep)"
   ]
  },
  {
   "cell_type": "code",
   "execution_count": null,
   "metadata": {},
   "outputs": [],
   "source": [
    "def pose2D():\n",
    "    robot.step(timestep)\n",
    "    position = gps.getValues()\n",
    "    north = compass.getValues()\n",
    "    bearing = math.atan2(north[2], north[0]);\n",
    "    return (position[0], position[2], bearing)"
   ]
  },
  {
   "cell_type": "code",
   "execution_count": null,
   "metadata": {},
   "outputs": [],
   "source": [
    "move(1,1)"
   ]
  },
  {
   "cell_type": "code",
   "execution_count": null,
   "metadata": {},
   "outputs": [],
   "source": [
    "move(-1,-1)"
   ]
  },
  {
   "cell_type": "code",
   "execution_count": null,
   "metadata": {},
   "outputs": [],
   "source": [
    "move(-1,1)"
   ]
  },
  {
   "cell_type": "code",
   "execution_count": null,
   "metadata": {},
   "outputs": [],
   "source": [
    "move(0,0)"
   ]
  },
  {
   "cell_type": "code",
   "execution_count": null,
   "metadata": {},
   "outputs": [],
   "source": [
    "pose2D()"
   ]
  },
  {
   "cell_type": "code",
   "execution_count": null,
   "metadata": {},
   "outputs": [],
   "source": []
  }
 ],
 "metadata": {
  "kernelspec": {
   "display_name": "Python 2",
   "language": "python",
   "name": "python2"
  },
  "language_info": {
   "codemirror_mode": {
    "name": "ipython",
    "version": 2
   },
   "file_extension": ".py",
   "mimetype": "text/x-python",
   "name": "python",
   "nbconvert_exporter": "python",
   "pygments_lexer": "ipython2",
   "version": "2.7.12"
  }
 },
 "nbformat": 4,
 "nbformat_minor": 4
}
